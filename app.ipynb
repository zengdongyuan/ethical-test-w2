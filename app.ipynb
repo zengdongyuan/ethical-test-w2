{
 "cells": [
  {
   "cell_type": "code",
   "execution_count": 5,
   "id": "e4050cb6",
   "metadata": {},
   "outputs": [
    {
     "name": "stdout",
     "output_type": "stream",
     "text": [
      " * Serving Flask app '__main__'\n",
      " * Debug mode: off\n"
     ]
    },
    {
     "name": "stderr",
     "output_type": "stream",
     "text": [
      "WARNING: This is a development server. Do not use it in a production deployment. Use a production WSGI server instead.\n",
      " * Running on http://127.0.0.1:5000\n",
      "Press CTRL+C to quit\n",
      "127.0.0.1 - - [15/Mar/2024 19:04:59] \"GET / HTTP/1.1\" 200 -\n",
      "127.0.0.1 - - [15/Mar/2024 19:05:02] \"POST /main HTTP/1.1\" 200 -\n",
      "127.0.0.1 - - [15/Mar/2024 19:05:04] \"POST /ethical_test HTTP/1.1\" 200 -\n",
      "127.0.0.1 - - [15/Mar/2024 19:05:06] \"POST /answer HTTP/1.1\" 200 -\n"
     ]
    },
    {
     "name": "stdout",
     "output_type": "stream",
     "text": [
      "true\n"
     ]
    },
    {
     "name": "stderr",
     "output_type": "stream",
     "text": [
      "127.0.0.1 - - [15/Mar/2024 19:05:08] \"POST /main HTTP/1.1\" 200 -\n",
      "127.0.0.1 - - [15/Mar/2024 19:05:09] \"POST /ethical_test HTTP/1.1\" 200 -\n",
      "127.0.0.1 - - [15/Mar/2024 19:05:10] \"POST /answer HTTP/1.1\" 200 -\n"
     ]
    },
    {
     "name": "stdout",
     "output_type": "stream",
     "text": [
      "false\n"
     ]
    },
    {
     "name": "stderr",
     "output_type": "stream",
     "text": [
      "127.0.0.1 - - [15/Mar/2024 19:05:11] \"POST /end HTTP/1.1\" 200 -\n",
      "127.0.0.1 - - [15/Mar/2024 20:19:02] \"GET / HTTP/1.1\" 200 -\n",
      "127.0.0.1 - - [15/Mar/2024 20:19:12] \"POST /main HTTP/1.1\" 200 -\n",
      "127.0.0.1 - - [15/Mar/2024 20:19:13] \"POST /ethical_test HTTP/1.1\" 200 -\n",
      "127.0.0.1 - - [15/Mar/2024 20:19:15] \"POST /answer HTTP/1.1\" 200 -\n"
     ]
    },
    {
     "name": "stdout",
     "output_type": "stream",
     "text": [
      "true\n"
     ]
    },
    {
     "name": "stderr",
     "output_type": "stream",
     "text": [
      "127.0.0.1 - - [15/Mar/2024 20:19:16] \"POST /end HTTP/1.1\" 200 -\n",
      "127.0.0.1 - - [15/Mar/2024 20:19:53] \"GET / HTTP/1.1\" 200 -\n",
      "127.0.0.1 - - [15/Mar/2024 20:21:15] \"GET / HTTP/1.1\" 200 -\n",
      "127.0.0.1 - - [15/Mar/2024 20:21:18] \"POST /main HTTP/1.1\" 200 -\n",
      "127.0.0.1 - - [15/Mar/2024 20:21:19] \"POST /ethical_test HTTP/1.1\" 200 -\n",
      "127.0.0.1 - - [15/Mar/2024 20:21:21] \"POST /answer HTTP/1.1\" 200 -\n"
     ]
    },
    {
     "name": "stdout",
     "output_type": "stream",
     "text": [
      "false\n"
     ]
    },
    {
     "name": "stderr",
     "output_type": "stream",
     "text": [
      "127.0.0.1 - - [15/Mar/2024 20:21:22] \"POST /main HTTP/1.1\" 200 -\n",
      "127.0.0.1 - - [15/Mar/2024 20:21:27] \"POST /ethical_test HTTP/1.1\" 200 -\n",
      "127.0.0.1 - - [15/Mar/2024 20:21:30] \"POST /answer HTTP/1.1\" 200 -\n"
     ]
    },
    {
     "name": "stdout",
     "output_type": "stream",
     "text": [
      "false\n"
     ]
    },
    {
     "name": "stderr",
     "output_type": "stream",
     "text": [
      "127.0.0.1 - - [15/Mar/2024 20:21:31] \"POST /main HTTP/1.1\" 200 -\n",
      "127.0.0.1 - - [15/Mar/2024 20:26:59] \"GET / HTTP/1.1\" 200 -\n",
      "127.0.0.1 - - [15/Mar/2024 20:27:01] \"POST /main HTTP/1.1\" 200 -\n",
      "127.0.0.1 - - [15/Mar/2024 20:27:02] \"POST /ethical_test HTTP/1.1\" 200 -\n",
      "127.0.0.1 - - [15/Mar/2024 20:27:05] \"POST /answer HTTP/1.1\" 200 -\n"
     ]
    },
    {
     "name": "stdout",
     "output_type": "stream",
     "text": [
      "false\n"
     ]
    },
    {
     "name": "stderr",
     "output_type": "stream",
     "text": [
      "127.0.0.1 - - [15/Mar/2024 20:27:38] \"GET / HTTP/1.1\" 200 -\n",
      "127.0.0.1 - - [15/Mar/2024 20:27:45] \"GET / HTTP/1.1\" 200 -\n",
      "127.0.0.1 - - [15/Mar/2024 20:28:10] \"GET / HTTP/1.1\" 200 -\n",
      "127.0.0.1 - - [15/Mar/2024 20:28:15] \"POST /main HTTP/1.1\" 200 -\n",
      "127.0.0.1 - - [15/Mar/2024 20:28:17] \"POST /end HTTP/1.1\" 200 -\n",
      "127.0.0.1 - - [15/Mar/2024 20:29:40] \"GET / HTTP/1.1\" 200 -\n",
      "127.0.0.1 - - [15/Mar/2024 20:29:50] \"GET / HTTP/1.1\" 200 -\n",
      "127.0.0.1 - - [15/Mar/2024 20:29:55] \"POST /main HTTP/1.1\" 200 -\n",
      "127.0.0.1 - - [15/Mar/2024 20:29:58] \"POST /end HTTP/1.1\" 200 -\n",
      "127.0.0.1 - - [15/Mar/2024 20:32:30] \"GET / HTTP/1.1\" 200 -\n"
     ]
    }
   ],
   "source": [
    "from flask import Flask,request,render_template\n",
    "app = Flask(__name__)\n",
    "\n",
    "\n",
    "@app.route(\"/\",methods=[\"GET\",\"POST\"])\n",
    "def index():\n",
    "    return(render_template(\"index.html\"))\n",
    "\n",
    "@app.route(\"/main\",methods=[\"GET\",\"POST\"])\n",
    "def main():\n",
    "    name = request.form.get(\"name\")\n",
    "    return(render_template(\"main.html\", name=name))\n",
    "\n",
    "@app.route(\"/ethical_test\",methods=[\"GET\",\"POST\"])\n",
    "def ethical_test():\n",
    "    return(render_template(\"ethical_test.html\"))\n",
    "\n",
    "@app.route(\"/answer\",methods=[\"GET\",\"POST\"])\n",
    "def answer():\n",
    "    ans = request.form[\"options\"]\n",
    "    print(ans)\n",
    "    if ans == \"true\":\n",
    "        return(render_template(\"wrong.html\"))\n",
    "    elif ans == \"false\":\n",
    "        return(render_template(\"correct.html\"))\n",
    "\n",
    "\n",
    "@app.route(\"/end\",methods=[\"GET\",\"POST\"])\n",
    "def end():\n",
    "    return(render_template(\"end.html\"))\n",
    "    \n",
    "if __name__ == \"__main__\":\n",
    "    app.run()"
   ]
  },
  {
   "cell_type": "code",
   "execution_count": 2,
   "id": "e895bd1e",
   "metadata": {},
   "outputs": [
    {
     "ename": "OperationalError",
     "evalue": "table employee already exists",
     "output_type": "error",
     "traceback": [
      "\u001B[1;31m---------------------------------------------------------------------------\u001B[0m",
      "\u001B[1;31mOperationalError\u001B[0m                          Traceback (most recent call last)",
      "Cell \u001B[1;32mIn[2], line 3\u001B[0m\n\u001B[0;32m      1\u001B[0m \u001B[38;5;28;01mimport\u001B[39;00m \u001B[38;5;21;01msqlite3\u001B[39;00m\n\u001B[0;32m      2\u001B[0m conn \u001B[38;5;241m=\u001B[39m sqlite3\u001B[38;5;241m.\u001B[39mconnect(\u001B[38;5;124m\"\u001B[39m\u001B[38;5;124mlog.db\u001B[39m\u001B[38;5;124m\"\u001B[39m)\n\u001B[1;32m----> 3\u001B[0m conn\u001B[38;5;241m.\u001B[39mexecute(\u001B[38;5;124m\"\u001B[39m\u001B[38;5;124mcreate table employee (name text, timestamp timestamp)\u001B[39m\u001B[38;5;124m\"\u001B[39m)\n",
      "\u001B[1;31mOperationalError\u001B[0m: table employee already exists"
     ]
    }
   ],
   "source": [
    "import sqlite3\n",
    "conn = sqlite3.connect(\"log.db\")\n",
    "conn.execute(\"create table employee (name text, timestamp timestamp)\")"
   ]
  },
  {
   "cell_type": "code",
   "execution_count": 3,
   "outputs": [],
   "source": [
    "conn.close()"
   ],
   "metadata": {
    "collapsed": false,
    "pycharm": {
     "name": "#%%\n"
    }
   }
  }
 ],
 "metadata": {
  "kernelspec": {
   "display_name": "py37",
   "language": "python",
   "name": "py37"
  },
  "language_info": {
   "codemirror_mode": {
    "name": "ipython",
    "version": 3
   },
   "file_extension": ".py",
   "mimetype": "text/x-python",
   "name": "python",
   "nbconvert_exporter": "python",
   "pygments_lexer": "ipython3",
   "version": "3.11.2"
  }
 },
 "nbformat": 4,
 "nbformat_minor": 5
}